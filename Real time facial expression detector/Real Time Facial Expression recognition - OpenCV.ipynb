{
 "cells": [
  {
   "cell_type": "code",
   "execution_count": 1,
   "metadata": {},
   "outputs": [],
   "source": [
    "import cv2\n",
    "from tensorflow.keras.models import model_from_json\n",
    "import warnings\n",
    "import numpy as np\n",
    "warnings.filterwarnings('ignore')\n",
    "import time\n",
    "import matplotlib.pyplot as plt"
   ]
  },
  {
   "cell_type": "code",
   "execution_count": 2,
   "metadata": {},
   "outputs": [],
   "source": [
    "def emotion_map(val):\n",
    "    emotion = ['Angry','Disgust','Fear','Happy','Sad','Surprise','Neutral']\n",
    "    onehot_dict = {0: [1., 0., 0., 0., 0., 0., 0.],\n",
    "                   1: [0., 1., 0., 0., 0., 0., 0.],\n",
    "                   2: [0., 0., 1., 0., 0., 0., 0.],\n",
    "                   3: [0., 0., 0., 1., 0., 0., 0.],\n",
    "                   4: [0., 0., 0., 0., 1., 0., 0.], \n",
    "                   5: [0., 0., 0., 0., 0., 1., 0.], \n",
    "                   6: [0., 0., 0., 0., 0., 0., 1.]}\n",
    "    emotion_dict = {}\n",
    "    output = 0\n",
    "    for i in emotion:\n",
    "        emotion_dict[i] = onehot_dict[emotion.index(i)]\n",
    "    for i in emotion_dict:\n",
    "        if (emotion_dict[i]==val).all():\n",
    "            output = i\n",
    "    return output"
   ]
  },
  {
   "cell_type": "code",
   "execution_count": 10,
   "metadata": {},
   "outputs": [
    {
     "name": "stdout",
     "output_type": "stream",
     "text": [
      "402\n"
     ]
    }
   ],
   "source": [
    "with open(r'C:\\Edureka_AI_ML_course\\model_config.json') as json_file:\n",
    "    json_config = json_file.read()\n",
    "model = model_from_json(json_config)\n",
    "model.load_weights(r'C:\\Edureka_AI_ML_course\\fer_classifier_weights.h5')\n",
    "\n",
    "#Video Capture\n",
    "video=cv2.VideoCapture(0)\n",
    "a = 1\n",
    "image_check = 0\n",
    "while True:\n",
    "    a=a+1\n",
    "    check, frame = video.read()\n",
    "    face_cascade = cv2.CascadeClassifier(r'C:\\Edureka_AI_ML_course\\Module_4_Deep_Learning\\opencv_demo_ek8_z0ifaw8\\OpenCv demo\\haarcascade_frontalface_default.xml')\n",
    "    gray = cv2.cvtColor(frame, cv2.COLOR_BGR2GRAY)\n",
    "    faces = face_cascade.detectMultiScale(gray,1.1,6)\n",
    "    # Draw rectangle around the faces\n",
    "    for (x, y, w, h) in faces:\n",
    "        image = frame[y:y+h,x:x+w]\n",
    "        cv2.rectangle(frame, (x, y), (x+w,y+h), (0, 255, 255), 2)\n",
    "        resized_image = cv2.resize(image,(48,48),cv2.INTER_AREA)\n",
    "        emotion_val = emotion_map(np.round_(model.predict(resized_image.reshape(1,48,48,3))))\n",
    "        cv2.putText(frame,str(emotion_val),(x,y),cv2.FONT_HERSHEY_COMPLEX,1,(255,0,0),2,cv2.LINE_AA)\n",
    "    # Display the output\n",
    "    cv2.imshow('capturing',frame)\n",
    "    key = cv2.waitKey(1)\n",
    "    if key == ord('q'):\n",
    "        image_check = image \n",
    "        break\n",
    "\n",
    "print(a) \n",
    "video.release()\n",
    "cv2.destroyAllWindows()"
   ]
  }
 ],
 "metadata": {
  "kernelspec": {
   "display_name": "Python 3",
   "language": "python",
   "name": "python3"
  },
  "language_info": {
   "codemirror_mode": {
    "name": "ipython",
    "version": 3
   },
   "file_extension": ".py",
   "mimetype": "text/x-python",
   "name": "python",
   "nbconvert_exporter": "python",
   "pygments_lexer": "ipython3",
   "version": "3.7.7"
  }
 },
 "nbformat": 4,
 "nbformat_minor": 4
}
